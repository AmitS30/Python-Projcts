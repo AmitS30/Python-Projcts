{
 "cells": [
  {
   "cell_type": "markdown",
   "id": "94c91ef6",
   "metadata": {},
   "source": [
    "# Bank managament menu driven project"
   ]
  },
  {
   "cell_type": "code",
   "execution_count": 1,
   "id": "aedc2b4b",
   "metadata": {},
   "outputs": [],
   "source": [
    "\n",
    "def Create_account():\n",
    "    Full_Name=input(\"Enter Your Full name: \")\n",
    "    Address=input(\"Enter Your Permanent address: \")\n",
    "    Phone_No=int(input(\"Enter Your phone number: \"))\n",
    "    Branch=input(\"Enter Your Branch name: \")\n",
    "    Type=input(\"Enter which type of Account you wanted to create: \")\n",
    "    Account_no=int(input(\"Enter Your choice of Accout number: \"))\n",
    "    print(\"*\"*100)\n",
    "    print(\"Congratulations !! You have successfully created your bank account at YB Bank\")\n",
    "def Deposit():\n",
    "    balance=0\n",
    "    print(\"Welcome to YB Bank\")\n",
    "    acc=int(input(\"Enter your account number: \"))\n",
    "    amt=int(input(\"Enter the amount you wanted to deposite in your account: \"))\n",
    "    balance=balance+amt\n",
    "    print(\"*\"*100)\n",
    "    print(\"Your new balance is\",balance)\n",
    "def Withdraw():\n",
    "    bal=10000\n",
    "    Acc=int(input(\"Enter your Account Number: \"))\n",
    "    Pin=int(input(\"Enter your Pin: \"))\n",
    "    typ=input(\"Enter the your account type: \")\n",
    "    amount=int(input(\"Enter the amount: \"))\n",
    "    if amount>=bal:\n",
    "        print(\"Insufficient Balance\")\n",
    "    else:\n",
    "        bal=bal-amount\n",
    "        print(\"Your Balance is\",bal)    \n",
    "    print(\"Thank you for visiting\")\n",
    "        "
   ]
  },
  {
   "cell_type": "code",
   "execution_count": 2,
   "id": "87c3f7df",
   "metadata": {},
   "outputs": [],
   "source": [
    "def bank_menu():\n",
    "    print(\"Welcome to YB Co-Operative Bank\")\n",
    "    print(\"*\"*100)\n",
    "    print(\"Enter 1 for Create a Account\")\n",
    "    print(\"Enter 2 for Deposit Cash\")\n",
    "    print(\"Enter 3 for Withdraw Cash\")\n",
    "    ch=int(input(\"Enter your choice: \"))\n",
    "    if ch==1:\n",
    "        print(Create_account())\n",
    "    elif ch==2:\n",
    "        print(Deposit())\n",
    "    elif ch==3:\n",
    "        print(Withdraw())"
   ]
  },
  {
   "cell_type": "code",
   "execution_count": 3,
   "id": "42bec143",
   "metadata": {},
   "outputs": [
    {
     "name": "stdout",
     "output_type": "stream",
     "text": [
      "Welcome to YB Co-Operative Bank\n",
      "****************************************************************************************************\n",
      "Enter 1 for Create a Account\n",
      "Enter 2 for Deposit Cash\n",
      "Enter 3 for Withdraw Cash\n",
      "Enter your choice: 2\n",
      "Welcome to YB Bank\n",
      "Enter your account number: 7787\n",
      "Enter the amount you wanted to deposite in your account: 15000\n",
      "****************************************************************************************************\n",
      "Your new balance is 15000\n",
      "None\n"
     ]
    }
   ],
   "source": [
    "bank_menu()"
   ]
  },
  {
   "cell_type": "code",
   "execution_count": null,
   "id": "febd39a8",
   "metadata": {},
   "outputs": [],
   "source": []
  },
  {
   "cell_type": "code",
   "execution_count": null,
   "id": "a4a58c61",
   "metadata": {},
   "outputs": [],
   "source": []
  },
  {
   "cell_type": "code",
   "execution_count": null,
   "id": "81f98828",
   "metadata": {},
   "outputs": [],
   "source": []
  },
  {
   "cell_type": "code",
   "execution_count": 47,
   "id": "4dfcbb78",
   "metadata": {},
   "outputs": [],
   "source": [
    "\n"
   ]
  },
  {
   "cell_type": "code",
   "execution_count": null,
   "id": "90c04d76",
   "metadata": {},
   "outputs": [
    {
     "name": "stdout",
     "output_type": "stream",
     "text": [
      "Welcome to YB Co-Operative Bank\n",
      "****************************************************************************************************\n",
      "Enter 1 for Create a Account\n",
      "Enter 2 for Deposit Cash\n",
      "Enter 3 for Withdraw Cash\n"
     ]
    }
   ],
   "source": [
    "bank_menu()"
   ]
  },
  {
   "cell_type": "code",
   "execution_count": null,
   "id": "93700fee",
   "metadata": {},
   "outputs": [],
   "source": []
  },
  {
   "cell_type": "code",
   "execution_count": null,
   "id": "18514aed",
   "metadata": {},
   "outputs": [],
   "source": []
  }
 ],
 "metadata": {
  "kernelspec": {
   "display_name": "Python 3 (ipykernel)",
   "language": "python",
   "name": "python3"
  },
  "language_info": {
   "codemirror_mode": {
    "name": "ipython",
    "version": 3
   },
   "file_extension": ".py",
   "mimetype": "text/x-python",
   "name": "python",
   "nbconvert_exporter": "python",
   "pygments_lexer": "ipython3",
   "version": "3.9.7"
  }
 },
 "nbformat": 4,
 "nbformat_minor": 5
}
