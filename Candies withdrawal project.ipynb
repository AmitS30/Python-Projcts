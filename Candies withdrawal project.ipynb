{
 "cells": [
  {
   "cell_type": "markdown",
   "id": "fb4e189e",
   "metadata": {},
   "source": [
    "# Candies withdrawal project"
   ]
  },
  {
   "cell_type": "code",
   "execution_count": 6,
   "id": "6a887137",
   "metadata": {},
   "outputs": [
    {
     "name": "stdout",
     "output_type": "stream",
     "text": [
      "Welcome to Candy Shop\n",
      "Today is our 10 years Anniversary so take how many candies you want.\n",
      "Enter how many candies you want.40\n",
      "Take Your Candies\n",
      "Enter how many candies you want.40\n",
      "Take Your Candies\n",
      "Enter how many candies you want.30\n",
      "Sorry... We are out of Candies\n"
     ]
    }
   ],
   "source": [
    "candies=100\n",
    "print(\"Welcome to Candy Shop\")\n",
    "print(\"Today is our 10 years Anniversary so take how many candies you want.\")\n",
    "while True:\n",
    "    a=int(input(\"Enter how many candies you want.\"))\n",
    "    if a<=candies:\n",
    "        print(\"Take Your Candies\")\n",
    "        candies-=a\n",
    "    else:\n",
    "        print(\"Sorry... We are out of Candies\")\n",
    "        break\n",
    "    "
   ]
  },
  {
   "cell_type": "code",
   "execution_count": null,
   "id": "fa56f90e",
   "metadata": {},
   "outputs": [],
   "source": []
  }
 ],
 "metadata": {
  "kernelspec": {
   "display_name": "Python 3 (ipykernel)",
   "language": "python",
   "name": "python3"
  },
  "language_info": {
   "codemirror_mode": {
    "name": "ipython",
    "version": 3
   },
   "file_extension": ".py",
   "mimetype": "text/x-python",
   "name": "python",
   "nbconvert_exporter": "python",
   "pygments_lexer": "ipython3",
   "version": "3.9.7"
  }
 },
 "nbformat": 4,
 "nbformat_minor": 5
}
